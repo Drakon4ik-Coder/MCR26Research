{
 "cells": [
  {
   "cell_type": "code",
   "execution_count": 1,
   "id": "d6374f54",
   "metadata": {},
   "outputs": [
    {
     "ename": "ModuleNotFoundError",
     "evalue": "No module named 'pandas'",
     "output_type": "error",
     "traceback": [
      "\u001b[31m---------------------------------------------------------------------------\u001b[39m",
      "\u001b[31mModuleNotFoundError\u001b[39m                       Traceback (most recent call last)",
      "\u001b[36mCell\u001b[39m\u001b[36m \u001b[39m\u001b[32mIn[1]\u001b[39m\u001b[32m, line 1\u001b[39m\n\u001b[32m----> \u001b[39m\u001b[32m1\u001b[39m \u001b[38;5;28;01mimport\u001b[39;00m\u001b[38;5;250m \u001b[39m\u001b[34;01mpandas\u001b[39;00m\u001b[38;5;250m \u001b[39m\u001b[38;5;28;01mas\u001b[39;00m\u001b[38;5;250m \u001b[39m\u001b[34;01mpd\u001b[39;00m\n\u001b[32m      2\u001b[39m \u001b[38;5;66;03m# Basic\u001b[39;00m\n\u001b[32m      3\u001b[39m pr_df = pd.read_parquet(\u001b[33m\"\u001b[39m\u001b[33mhf://datasets/hao-li/AIDev/pull_request.parquet\u001b[39m\u001b[33m\"\u001b[39m)\n",
      "\u001b[31mModuleNotFoundError\u001b[39m: No module named 'pandas'"
     ]
    }
   ],
   "source": [
    "import pandas as pd\n",
    "# Basic\n",
    "pr_df = pd.read_parquet(\"hf://datasets/hao-li/AIDev/pull_request.parquet\")\n",
    "repo_df = pd.read_parquet(\"hf://datasets/hao-li/AIDev/repository.parquet\")\n",
    "user_df = pd.read_parquet(\"hf://datasets/hao-li/AIDev/user.parquet\")\n",
    "\n",
    "# Comments and reviews\n",
    "pr_comments_df = pd.read_parquet(\"hf://datasets/hao-li/AIDev/pr_comments.parquet\")\n",
    "pr_reviews_df = pd.read_parquet(\"hf://datasets/hao-li/AIDev/pr_reviews.parquet\")\n",
    "pr_review_comments_df = pd.read_parquet(\"hf://datasets/hao-li/AIDev/pr_review_comments.parquet\")\n",
    "\n",
    "# Commits\n",
    "pr_commits_df = pd.read_parquet(\"hf://datasets/hao-li/AIDev/pr_commits.parquet\")\n",
    "pr_commit_details_df = pd.read_parquet(\"hf://datasets/hao-li/AIDev/pr_commit_details.parquet\")\n",
    "\n",
    "# Related issues\n",
    "related_issue_df = pd.read_parquet(\"hf://datasets/hao-li/AIDev/related_issue.parquet\")\n",
    "issue_df = pd.read_parquet(\"hf://datasets/hao-li/AIDev/issue.parquet\")\n",
    "\n",
    "# Events\n",
    "pr_timeline_df = pd.read_parquet(\"hf://datasets/hao-li/AIDev/pr_timeline.parquet\")\n",
    "\n",
    "# Task type\n",
    "pr_task_type_df = pd.read_parquet(\"hf://datasets/hao-li/AIDev/pr_task_type.parquet\")\n",
    "\n",
    "# Human-PR\n",
    "human_pr_df = pd.read_parquet(\"hf://datasets/hao-li/AIDev/human_pull_request.parquet\")\n",
    "human_pr_task_type_df = pd.read_parquet(\"hf://datasets/hao-li/AIDev/human_pr_task_type.parquet\")"
   ]
  }
 ],
 "metadata": {
  "kernelspec": {
   "display_name": ".venv",
   "language": "python",
   "name": "python3"
  },
  "language_info": {
   "codemirror_mode": {
    "name": "ipython",
    "version": 3
   },
   "file_extension": ".py",
   "mimetype": "text/x-python",
   "name": "python",
   "nbconvert_exporter": "python",
   "pygments_lexer": "ipython3",
   "version": "3.12.3"
  }
 },
 "nbformat": 4,
 "nbformat_minor": 5
}
